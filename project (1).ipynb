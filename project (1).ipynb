{
 "cells": [
  {
   "cell_type": "code",
   "execution_count": 7,
   "id": "f60ac430-f008-47aa-8523-1766c02b56e4",
   "metadata": {},
   "outputs": [
    {
     "name": "stdout",
     "output_type": "stream",
     "text": [
      "Addition: 15\n",
      "Subtraction: 5\n",
      "Multiplication: 50\n",
      "Division: 2.0\n",
      "Division by Zero: Division by zero error!\n"
     ]
    }
   ],
   "source": [
    "def add(x, y):\n",
    "    return x + y\n",
    "\n",
    "def subtract(x, y):\n",
    "    return x - y\n",
    "\n",
    "def multiply(x, y):\n",
    "    return x * y\n",
    "\n",
    "def divide(x, y):\n",
    "    if y == 0:\n",
    "        return \"Division by zero error!\"\n",
    "    else:\n",
    "        return x / y\n",
    "\n",
    "\n",
    "print(\"Addition:\", add(10, 5))\n",
    "print(\"Subtraction:\", subtract(10, 5))\n",
    "print(\"Multiplication:\", multiply(10, 5))\n",
    "print(\"Division:\", divide(10, 5))\n",
    "print(\"Division by Zero:\", divide(10, 0))\n"
   ]
  },
  {
   "cell_type": "code",
   "execution_count": 3,
   "id": "7ea2ffe8-410c-45ef-a058-00ec4429acfe",
   "metadata": {},
   "outputs": [
    {
     "name": "stdout",
     "output_type": "stream",
     "text": [
      "Processed List (Addition): [15, 11]\n",
      "Processed List (Multiplication): [50, 24]\n"
     ]
    }
   ],
   "source": [
    "def process_list(data, operation):\n",
    "    if not isinstance(data, list) or not callable(operation):\n",
    "        return None\n",
    "    results = []\n",
    "    for i in range(0, len(data) - 1, 2):\n",
    "        try:\n",
    "            x = data[i]\n",
    "            y = data[i + 1]\n",
    "            results.append(operation(x, y))\n",
    "        except IndexError:\n",
    "            results.append(data[i])  \n",
    "        except TypeError:\n",
    "            return None\n",
    "    return results\n",
    "\n",
    "\n",
    "data = [10, 5, 8, 3, 7]\n",
    "print(\"Processed List (Addition):\", process_list(data, add))\n",
    "print(\"Processed List (Multiplication):\", process_list(data, multiply))"
   ]
  },
  {
   "cell_type": "code",
   "execution_count": 5,
   "id": "37ed83ea-b164-48cb-98f5-053c75df5ff9",
   "metadata": {},
   "outputs": [
    {
     "name": "stdout",
     "output_type": "stream",
     "text": [
      "Random Numbers: [0.7388268  0.97975067 0.74398214 0.63412363 0.07773793 0.91107119\n",
      " 0.15378253 0.98531393 0.12733856 0.07976943]\n"
     ]
    }
   ],
   "source": [
    "import numpy as np\n",
    "\n",
    "random_numbers = np.random.rand(10)\n",
    "print(\"Random Numbers:\", random_numbers)"
   ]
  },
  {
   "cell_type": "code",
   "execution_count": 9,
   "id": "f03e53db-c2ab-447d-9c14-7e3c80bb10aa",
   "metadata": {},
   "outputs": [
    {
     "name": "stdout",
     "output_type": "stream",
     "text": [
      "Generated DataFrame:\n",
      "        col1  col2\n",
      "0  0.860425    86\n",
      "1  0.194374    31\n",
      "2  0.940903    77\n",
      "3  0.113091    96\n",
      "4  0.698908     0\n",
      "5  0.277212    38\n",
      "6  0.486481    40\n",
      "7  0.648127    87\n",
      "8  0.941840    80\n",
      "9  0.483062    49\n"
     ]
    }
   ],
   "source": [
    "import pandas as pd\n",
    "import numpy as np\n",
    "\n",
    "data = {'col1': np.random.rand(10), 'col2': np.random.randint(0, 100, 10)}\n",
    "df = pd.DataFrame(data)\n",
    "print(\"Generated DataFrame:\\n\", df)"
   ]
  },
  {
   "cell_type": "code",
   "execution_count": 11,
   "id": "ea744323-67e6-442d-b603-c1441b1fda44",
   "metadata": {},
   "outputs": [
    {
     "name": "stdout",
     "output_type": "stream",
     "text": [
      "Random Sample from List: [6, 7, 4, 5, 3]\n"
     ]
    }
   ],
   "source": [
    "import random\n",
    "\n",
    "my_list = [1, 2, 3, 4, 5, 6, 7, 8, 9, 10]\n",
    "random_items = random.sample(my_list, 5)\n",
    "print(\"Random Sample from List:\", random_items)"
   ]
  },
  {
   "cell_type": "code",
   "execution_count": 13,
   "id": "166bafa5-3c70-4187-b53f-b6f0173ee895",
   "metadata": {},
   "outputs": [
    {
     "name": "stdout",
     "output_type": "stream",
     "text": [
      "ROT13 Encoding of 'Hello, World!': Uryyb, Jbeyq!\n"
     ]
    }
   ],
   "source": [
    "import codecs\n",
    "\n",
    "def rot13(text):\n",
    "    return codecs.encode(text, 'rot13')\n",
    "\n",
    "print(\"ROT13 Encoding of 'Hello, World!':\", rot13(\"Hello, World!\"))\n"
   ]
  },
  {
   "cell_type": "code",
   "execution_count": 15,
   "id": "461a1692-63b5-407b-9417-6267b9de3316",
   "metadata": {},
   "outputs": [
    {
     "name": "stdout",
     "output_type": "stream",
     "text": [
      "Check 10: Even\n",
      "Check 7: Odd\n",
      "Check 'hello': Invalid input: Please provide an integer.\n"
     ]
    }
   ],
   "source": [
    "def check_even_odd(number):\n",
    "    if isinstance(number, int):\n",
    "        return \"Even\" if number % 2 == 0 else \"Odd\"\n",
    "    else:\n",
    "        return \"Invalid input: Please provide an integer.\"\n",
    "\n",
    "\n",
    "print(\"Check 10:\", check_even_odd(10))\n",
    "print(\"Check 7:\", check_even_odd(7))\n",
    "print(\"Check 'hello':\", check_even_odd(\"hello\"))"
   ]
  },
  {
   "cell_type": "code",
   "execution_count": 17,
   "id": "a1308cd8-794d-4de5-83ee-a101dd625499",
   "metadata": {},
   "outputs": [
    {
     "name": "stdout",
     "output_type": "stream",
     "text": [
      "File Content: None\n"
     ]
    }
   ],
   "source": [
    "def read_file_content(filepath):\n",
    "    try:\n",
    "        with open(filepath, 'r') as file:\n",
    "            content = file.read()\n",
    "        return content\n",
    "    except FileNotFoundError:\n",
    "        return None\n",
    "\n",
    "\n",
    "print(\"File Content:\", read_file_content(\"sample.txt\"))"
   ]
  },
  {
   "cell_type": "code",
   "execution_count": null,
   "id": "7d7d8327-5e7c-40f3-a5e7-fdb65a5bb657",
   "metadata": {},
   "outputs": [],
   "source": []
  }
 ],
 "metadata": {
  "kernelspec": {
   "display_name": "Python [conda env:base] *",
   "language": "python",
   "name": "conda-base-py"
  },
  "language_info": {
   "codemirror_mode": {
    "name": "ipython",
    "version": 3
   },
   "file_extension": ".py",
   "mimetype": "text/x-python",
   "name": "python",
   "nbconvert_exporter": "python",
   "pygments_lexer": "ipython3",
   "version": "3.12.7"
  }
 },
 "nbformat": 4,
 "nbformat_minor": 5
}
